{
 "cells": [
  {
   "cell_type": "code",
   "execution_count": 19,
   "id": "2f20a158",
   "metadata": {},
   "outputs": [],
   "source": [
    "#-------------------------------\n",
    "def new_game():\n",
    "    \n",
    "    guesses = []\n",
    "    correct_guesses = 0\n",
    "    question_num = 1\n",
    "    \n",
    "    for key in questions:\n",
    "        print(\"-----------------------\")\n",
    "        print(key)\n",
    "        for i in options[question_num - 1]:\n",
    "            print(i)\n",
    "        \n",
    "        guess = input(\"Enter (A, B, C, D): \")\n",
    "        guess = guess.upper()\n",
    "        guesses.append(guess)\n",
    "        \n",
    "        correct_guesses += check_answer(questions.get(key), guess)\n",
    "        question_num += 1\n",
    "        \n",
    "    display_score(correct_guesses, guesses)\n",
    "\n",
    "#-------------------------------\n",
    "def check_answer(answer, guess):\n",
    "    \n",
    "    if answer == guess:\n",
    "        print(\"CORRECT!\")\n",
    "        return 1\n",
    "    else:\n",
    "        print(\"WRONG!\")\n",
    "        return 0\n",
    "#-------------------------------\n",
    "def display_score(correct_guesses, guesses):\n",
    "    print(\"-----------------------\")\n",
    "    print(\"RESULTS\")\n",
    "    print(\"-----------------------\")\n",
    "    \n",
    "    print(\"Answers: \", end=\" \")\n",
    "    for i in questions:\n",
    "        print(questions.get(i), end=\" \")\n",
    "    print()\n",
    "    \n",
    "    print(\"Guesses: \", end=\" \")\n",
    "    for i in guesses:\n",
    "        print(i, end=\" \")\n",
    "    print()\n",
    "    \n",
    "    score = int((correct_guesses/len(questions))* 100)\n",
    "    print(\"Your score is: \"+str(score)+\"%\")\n",
    "#-------------------------------\n",
    "def play_again():\n",
    "    \n",
    "    response = input(\"Do you want to play again? (yes or no): \")\n",
    "    response =  response.upper()\n",
    "        \n",
    "    if response == \"YES\":\n",
    "        return True\n",
    "    else:\n",
    "        return False \n",
    "#-------------------------------"
   ]
  },
  {
   "cell_type": "code",
   "execution_count": 16,
   "id": "2d8281d1",
   "metadata": {},
   "outputs": [],
   "source": [
    "questions = {\n",
    "    \"Who created Python?: \": \"A\",\n",
    "    \"What year was Python created?: \": \"B\",\n",
    "    \"Python is tributed to which comedy group?: \": \"C\",\n",
    "    \"Is the Earth round?: \": \"A\"\n",
    "}"
   ]
  },
  {
   "cell_type": "code",
   "execution_count": 17,
   "id": "02cdfff3",
   "metadata": {},
   "outputs": [],
   "source": [
    "options = [[\"A. Guido van Russom\", \"B. Elon Musk\", \"C. Bill Gates\", \"D. Mark Zuckerburg\"],\n",
    "        [\"A. 1989\", \"B. 1991\", \"C. 2000\", \"D. 2016\"],\n",
    "        [\"A. Lonely Island\", \"B. Smosh\", \"C. Monty Python\", \"D. SNL\"],\n",
    "        [\"A. True\", \"B. False\", \"C. sometimes\", \"D. What's Earth?\"]]"
   ]
  },
  {
   "cell_type": "code",
   "execution_count": null,
   "id": "62f834df",
   "metadata": {},
   "outputs": [
    {
     "name": "stdout",
     "output_type": "stream",
     "text": [
      "-----------------------\n",
      "Who created Python?: \n",
      "A. Guido van Russom\n",
      "B. Elon Musk\n",
      "C. Bill Gates\n",
      "D. Mark Zuckerburg\n"
     ]
    }
   ],
   "source": [
    "new_game()"
   ]
  },
  {
   "cell_type": "code",
   "execution_count": 21,
   "id": "b6eb874d",
   "metadata": {},
   "outputs": [
    {
     "name": "stdout",
     "output_type": "stream",
     "text": [
      "Do you want to play again? (yes or no): no\n",
      "Byeee!\n"
     ]
    }
   ],
   "source": [
    "while play_again():\n",
    "    new_game()\n",
    "    \n",
    "print(\"Byeee!\")"
   ]
  }
 ],
 "metadata": {
  "kernelspec": {
   "display_name": "Python 3 (ipykernel)",
   "language": "python",
   "name": "python3"
  },
  "language_info": {
   "codemirror_mode": {
    "name": "ipython",
    "version": 3
   },
   "file_extension": ".py",
   "mimetype": "text/x-python",
   "name": "python",
   "nbconvert_exporter": "python",
   "pygments_lexer": "ipython3",
   "version": "3.11.5"
  }
 },
 "nbformat": 4,
 "nbformat_minor": 5
}
