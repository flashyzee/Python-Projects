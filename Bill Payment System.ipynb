{
 "cells": [
  {
   "cell_type": "code",
   "execution_count": 8,
   "id": "fd775c99",
   "metadata": {},
   "outputs": [],
   "source": [
    "#step 1. create variable - account_balance\n",
    "account_balance = \"$250\""
   ]
  },
  {
   "cell_type": "code",
   "execution_count": 9,
   "id": "93655922",
   "metadata": {},
   "outputs": [],
   "source": [
    "#step 2. create variable - due_date\n",
    "due_date = \"January 25, 2021\""
   ]
  },
  {
   "cell_type": "code",
   "execution_count": 10,
   "id": "8a7924e4",
   "metadata": {},
   "outputs": [
    {
     "name": "stdout",
     "output_type": "stream",
     "text": [
      "hey there, please confirm your name: peter\n"
     ]
    },
    {
     "data": {
      "text/plain": [
       "'peter'"
      ]
     },
     "execution_count": 10,
     "metadata": {},
     "output_type": "execute_result"
    }
   ],
   "source": [
    "#step 3. confirm customer's name\n",
    "input (\"hey there, please confirm your name: \")"
   ]
  },
  {
   "cell_type": "code",
   "execution_count": 11,
   "id": "b0eafe23",
   "metadata": {},
   "outputs": [
    {
     "name": "stdout",
     "output_type": "stream",
     "text": [
      "hey there, please confirm your name: peter\n"
     ]
    }
   ],
   "source": [
    "#step 4. create variable - name \n",
    "name = input (\"hey there, please confirm your name: \")"
   ]
  },
  {
   "cell_type": "code",
   "execution_count": 12,
   "id": "a0aea0af",
   "metadata": {},
   "outputs": [
    {
     "name": "stdout",
     "output_type": "stream",
     "text": [
      "Welcome back peter\n"
     ]
    }
   ],
   "source": [
    "#step 5. greet customer by their name\n",
    "print (\"Welcome back \" + name)"
   ]
  },
  {
   "cell_type": "code",
   "execution_count": 13,
   "id": "0f28c6dc",
   "metadata": {},
   "outputs": [
    {
     "name": "stdout",
     "output_type": "stream",
     "text": [
      "Would you like to view your account balance?: yes\n"
     ]
    }
   ],
   "source": [
    "#step 6. ask if user wants to know their account_balance \n",
    "message = input(\"Would you like to view your account balance?: \")"
   ]
  },
  {
   "cell_type": "code",
   "execution_count": 14,
   "id": "fe890fe3",
   "metadata": {},
   "outputs": [],
   "source": [
    "#step 7. provide account balance to user \n",
    "balanceinfo = (\"sure {}, your account balance is {}, and your due date is {}\").format(name.capitalize(), account_balance, due_date)\n"
   ]
  },
  {
   "cell_type": "code",
   "execution_count": 15,
   "id": "22f869e7",
   "metadata": {},
   "outputs": [
    {
     "name": "stdout",
     "output_type": "stream",
     "text": [
      "sure Peter, your account balance is $250, and your due date is January 25, 2021\n"
     ]
    }
   ],
   "source": [
    "print(balanceinfo)"
   ]
  }
 ],
 "metadata": {
  "kernelspec": {
   "display_name": "Python 3 (ipykernel)",
   "language": "python",
   "name": "python3"
  },
  "language_info": {
   "codemirror_mode": {
    "name": "ipython",
    "version": 3
   },
   "file_extension": ".py",
   "mimetype": "text/x-python",
   "name": "python",
   "nbconvert_exporter": "python",
   "pygments_lexer": "ipython3",
   "version": "3.11.5"
  }
 },
 "nbformat": 4,
 "nbformat_minor": 5
}
