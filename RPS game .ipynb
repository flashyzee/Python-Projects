{
 "cells": [
  {
   "cell_type": "code",
   "execution_count": null,
   "id": "ee59dbc2",
   "metadata": {},
   "outputs": [],
   "source": [
    "import random\n",
    "\n",
    "\n",
    "while True:\n",
    "    choices = [\"rock\", \"paper\", \"scissors\"]\n",
    "\n",
    "    computer = random.choice(choices)\n",
    "    player = None"
   ]
  },
  {
   "cell_type": "code",
   "execution_count": null,
   "id": "d71f455f",
   "metadata": {},
   "outputs": [],
   "source": [
    "print(computer)"
   ]
  },
  {
   "cell_type": "code",
   "execution_count": 2,
   "id": "d76f5403",
   "metadata": {},
   "outputs": [
    {
     "name": "stdout",
     "output_type": "stream",
     "text": [
      "Enter your choice (rock, paper, scissors): rock \n",
      "Enter your choice (rock, paper, scissors): paper \n",
      "Enter your choice (rock, paper, scissors): paper \n",
      "Enter your choice (rock, paper, scissors): \n",
      "  @media print {\n",
      "    .ms-editor-squiggles-container {\n",
      "      display:none !important;\n",
      "    }\n",
      "  }\n",
      "  .ms-editor-squiggles-container {\n",
      "    all: initial;\n",
      "  }paper\n",
      "Computer:  rock\n",
      "Player:  paper\n",
      "You Win!\n",
      "Play again? (yes/no): yes\n",
      "Enter your choice (rock, paper, scissors): \n",
      "Enter your choice (rock, paper, scissors): rock\n",
      "Computer:  rock\n",
      "Player:  rock\n",
      "Tie!\n",
      "Play again? (yes/no): rock\n",
      "Bye!\n"
     ]
    }
   ],
   "source": [
    "import random\n",
    "\n",
    "while True:\n",
    "    choices = [\"rock\", \"paper\", \"scissors\"]\n",
    "\n",
    "    computer = random.choice(choices)\n",
    "    player = None\n",
    "    \n",
    "    while player not in choices:\n",
    "        player = input(\"Enter your choice (rock, paper, scissors): \").lower()\n",
    "    \n",
    "    if player == computer:\n",
    "        print(\"Computer: \", computer)\n",
    "        print(\"Player: \", player)\n",
    "        print(\"Tie!\")\n",
    "    \n",
    "    elif player == \"rock\":\n",
    "        if computer == \"paper\":\n",
    "            print(\"Computer: \", computer)\n",
    "            print(\"Player: \", player)\n",
    "            print(\"You lose!\")\n",
    "    \n",
    "        if computer == \"scissors\":\n",
    "            print(\"Computer: \", computer)\n",
    "            print(\"Player: \", player)\n",
    "            print(\"You Win!\")\n",
    "        \n",
    "    elif player == \"scissors\":\n",
    "        if computer == \"rock\":\n",
    "            print(\"Computer: \", computer)\n",
    "            print(\"Player: \", player)\n",
    "            print(\"You lose!\")\n",
    "    \n",
    "        if computer == \"paper\":\n",
    "            print(\"Computer: \", computer)\n",
    "            print(\"Player: \", player)\n",
    "            print(\"You Win!\")\n",
    "    \n",
    "    elif player == \"paper\":\n",
    "        if computer == \"scissors\":\n",
    "            print(\"Computer: \", computer)\n",
    "            print(\"Player: \", player)\n",
    "            print(\"You lose!\")\n",
    "    \n",
    "        if computer == \"rock\":\n",
    "            print(\"Computer: \", computer)\n",
    "            print(\"Player: \", player)\n",
    "            print(\"You Win!\")\n",
    "        \n",
    "    play_again = input(\"Play again? (yes/no): \").lower()\n",
    "\n",
    "    if play_again != \"yes\":\n",
    "        break\n",
    "\n",
    "print(\"Bye!\")\n"
   ]
  }
 ],
 "metadata": {
  "kernelspec": {
   "display_name": "Python 3 (ipykernel)",
   "language": "python",
   "name": "python3"
  },
  "language_info": {
   "codemirror_mode": {
    "name": "ipython",
    "version": 3
   },
   "file_extension": ".py",
   "mimetype": "text/x-python",
   "name": "python",
   "nbconvert_exporter": "python",
   "pygments_lexer": "ipython3",
   "version": "3.11.5"
  }
 },
 "nbformat": 4,
 "nbformat_minor": 5
}
